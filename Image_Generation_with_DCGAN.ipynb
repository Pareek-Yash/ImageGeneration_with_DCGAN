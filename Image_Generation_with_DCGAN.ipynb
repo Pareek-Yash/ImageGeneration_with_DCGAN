{
  "nbformat": 4,
  "nbformat_minor": 0,
  "metadata": {
    "colab": {
      "name": "Image Generation with DCGAN.ipynb",
      "provenance": [],
      "authorship_tag": "ABX9TyNhYzQmwk8z6X9U5bKsQfuE",
      "include_colab_link": true
    },
    "kernelspec": {
      "name": "python3",
      "display_name": "Python 3"
    },
    "language_info": {
      "name": "python"
    },
    "accelerator": "GPU"
  },
  "cells": [
    {
      "cell_type": "markdown",
      "metadata": {
        "id": "view-in-github",
        "colab_type": "text"
      },
      "source": [
        "<a href=\"https://colab.research.google.com/github/Pareek-Yash/ImageGeneration_with_DCGAN/blob/main/Image_Generation_with_DCGAN.ipynb\" target=\"_parent\"><img src=\"https://colab.research.google.com/assets/colab-badge.svg\" alt=\"Open In Colab\"/></a>"
      ]
    },
    {
      "cell_type": "code",
      "execution_count": 1,
      "metadata": {
        "id": "Tpw8dGDwC7Rx"
      },
      "outputs": [],
      "source": [
        "import tensorflow as tf\n",
        "import pandas as pd\n",
        "from tensorflow import keras\n",
        "from tensorflow.keras import layers\n",
        "import numpy as np\n",
        "import matplotlib.pyplot as plt\n",
        "import os\n",
        "import gdown\n",
        "from zipfile import ZipFile"
      ]
    },
    {
      "cell_type": "markdown",
      "metadata": {
        "id": "6P7tIwjQH6OL"
      },
      "source": [
        "\n",
        "\n",
        "#Initializing the Parameters\n",
        "\n",
        "###Initalizing Parameters at one place helps in tweaking all parameters from one place for optimizing the Network.\n",
        "\n"
      ]
    },
    {
      "cell_type": "code",
      "execution_count": 16,
      "metadata": {
        "id": "jXzVV5ZeIrV0"
      },
      "outputs": [],
      "source": [
        "alpha = 0.2\n",
        "latent_dim = 128\n",
        "lr = 0.001\n",
        "batch_size = 32\n",
        "codings_size = 128\n",
        "num_epochs = 50"
      ]
    },
    {
      "cell_type": "code",
      "source": [
        "data = tf.keras.datasets.fashion_mnist.load_data()"
      ],
      "metadata": {
        "colab": {
          "base_uri": "https://localhost:8080/"
        },
        "id": "5FkT0id34E_w",
        "outputId": "f415d716-fa82-4114-e069-30371ce45663"
      },
      "execution_count": null,
      "outputs": [
        {
          "output_type": "stream",
          "name": "stdout",
          "text": [
            "Downloading data from https://storage.googleapis.com/tensorflow/tf-keras-datasets/train-labels-idx1-ubyte.gz\n",
            "32768/29515 [=================================] - 0s 0us/step\n",
            "40960/29515 [=========================================] - 0s 0us/step\n",
            "Downloading data from https://storage.googleapis.com/tensorflow/tf-keras-datasets/train-images-idx3-ubyte.gz\n",
            "26427392/26421880 [==============================] - 0s 0us/step\n",
            "26435584/26421880 [==============================] - 0s 0us/step\n",
            "Downloading data from https://storage.googleapis.com/tensorflow/tf-keras-datasets/t10k-labels-idx1-ubyte.gz\n",
            "16384/5148 [===============================================================================================] - 0s 0us/step\n",
            "Downloading data from https://storage.googleapis.com/tensorflow/tf-keras-datasets/t10k-images-idx3-ubyte.gz\n",
            "4423680/4422102 [==============================] - 0s 0us/step\n",
            "4431872/4422102 [==============================] - 0s 0us/step\n"
          ]
        }
      ]
    },
    {
      "cell_type": "code",
      "source": [
        "os.makedirs(\"celeba_gan\")\n",
        "\n",
        "with ZipFile(\"/content/celeba_gan.zip\", \"r\") as zip_ref:\n",
        "    zip_ref.extractall(\"celeba_gan\")"
      ],
      "metadata": {
        "id": "bqkk57frBDpY"
      },
      "execution_count": 3,
      "outputs": []
    },
    {
      "cell_type": "code",
      "source": [
        ""
      ],
      "metadata": {
        "id": "P_mmYtIcBaux"
      },
      "execution_count": null,
      "outputs": []
    },
    {
      "cell_type": "code",
      "source": [
        "from tensorflow.keras.preprocessing.image import ImageDataGenerator\n",
        "train_datagen = ImageDataGenerator(rescale=1/255.)\n",
        "test_datagen = ImageDataGenerator(rescale=1/255.)"
      ],
      "metadata": {
        "id": "U3RX3X1Xh2-W"
      },
      "execution_count": 4,
      "outputs": []
    },
    {
      "cell_type": "code",
      "source": [
        "for dirpath, dirnames, filenames in os.walk(\"celeba_gan\"):\n",
        "  print(f\"There are {len(dirnames)} directories and {len(filenames)} images in '{dirpath}'.\")"
      ],
      "metadata": {
        "colab": {
          "base_uri": "https://localhost:8080/"
        },
        "id": "SErbqynBiM6w",
        "outputId": "1cc0a1df-456f-45e5-825f-bdd0432cc513"
      },
      "execution_count": 5,
      "outputs": [
        {
          "output_type": "stream",
          "name": "stdout",
          "text": [
            "There are 1 directories and 0 images in 'celeba_gan'.\n",
            "There are 0 directories and 2000 images in 'celeba_gan/celeba_gan'.\n"
          ]
        }
      ]
    },
    {
      "cell_type": "code",
      "source": [
        "# Let's visualize our images\n",
        "import matplotlib.pyplot as plt\n",
        "import matplotlib.image as mpimg\n",
        "import random\n",
        "\n",
        "def view_random_image(target_folder):\n",
        "\n",
        "  # Get a random image path\n",
        "  random_image = random.sample(os.listdir(target_folder), 1)\n",
        "  print(random_image)\n",
        "\n",
        "  # Read in the image and plot it using matplotlib\n",
        "  img = mpimg.imread(target_folder + \"/\" + random_image[0])\n",
        "  plt.imshow(img)\n",
        "  plt.axis(\"off\");\n",
        "\n",
        "  print(f\"Image shape: {img.shape}\") # show the shape of the image\n",
        "\n",
        "  return img"
      ],
      "metadata": {
        "id": "aqSEPVPijTav"
      },
      "execution_count": 6,
      "outputs": []
    },
    {
      "cell_type": "code",
      "source": [
        "img = view_random_image(target_folder=\"/content/celeba_gan/celeba_gan\")"
      ],
      "metadata": {
        "colab": {
          "base_uri": "https://localhost:8080/",
          "height": 282
        },
        "id": "QswuUgymjhO6",
        "outputId": "9704899a-0cfb-4b63-b277-392e13ad912b"
      },
      "execution_count": 7,
      "outputs": [
        {
          "output_type": "stream",
          "name": "stdout",
          "text": [
            "['001169.jpg']\n",
            "Image shape: (218, 178, 3)\n"
          ]
        },
        {
          "output_type": "display_data",
          "data": {
            "image/png": "[encoded data removed]",
            "text/plain": [
              "<Figure size 432x288 with 1 Axes>"
            ]
          },
          "metadata": {
            "needs_background": "light"
          }
        }
      ]
    },
    {
      "cell_type": "code",
      "source": [
        ""
      ],
      "metadata": {
        "id": "U2YnbHM8Bozg"
      },
      "execution_count": null,
      "outputs": []
    },
    {
      "cell_type": "code",
      "source": [
        "datagen = ImageDataGenerator(rescale=1./255)"
      ],
      "metadata": {
        "id": "sgJ_RqPplOr4"
      },
      "execution_count": 8,
      "outputs": []
    },
    {
      "cell_type": "code",
      "source": [
        "data_dir ='/content/celeba_gan/'\n",
        "train_data = datagen.flow_from_directory(\n",
        "  directory=data_dir, target_size=(64, 64), batch_size=32, seed=42\n",
        ")"
      ],
      "metadata": {
        "colab": {
          "base_uri": "https://localhost:8080/"
        },
        "id": "WqE-HCfMM2vr",
        "outputId": "2cce783a-f2a7-4e5b-de04-5e66a030b7e1"
      },
      "execution_count": 9,
      "outputs": [
        {
          "output_type": "stream",
          "name": "stdout",
          "text": [
            "Found 2000 images belonging to 1 classes.\n"
          ]
        }
      ]
    },
    {
      "cell_type": "code",
      "execution_count": 10,
      "metadata": {
        "colab": {
          "base_uri": "https://localhost:8080/"
        },
        "id": "_tcLD4ykDxz6",
        "outputId": "33424dcd-3fde-4fc7-a03b-6e3941171d59"
      },
      "outputs": [
        {
          "output_type": "stream",
          "name": "stdout",
          "text": [
            "Found 2000 files belonging to 1 classes.\n"
          ]
        }
      ],
      "source": [
        "dataset = keras.preprocessing.image_dataset_from_directory(\n",
        "    \"celeba_gan\", label_mode=None, image_size=(64, 64), batch_size=32\n",
        ")\n",
        "dataset = dataset.map(lambda x: x / 255.0)"
      ]
    },
    {
      "cell_type": "markdown",
      "metadata": {
        "id": "30TcSVXnETAC"
      },
      "source": [
        "\n",
        "\n",
        "#Creating the Discriminator\n"
      ]
    },
    {
      "cell_type": "code",
      "execution_count": 11,
      "metadata": {
        "colab": {
          "base_uri": "https://localhost:8080/"
        },
        "id": "_BWK_pEsEdMR",
        "outputId": "ac032f28-c808-4107-9bbf-6a655dec0fc2"
      },
      "outputs": [
        {
          "output_type": "stream",
          "name": "stdout",
          "text": [
            "Model: \"discriminator\"\n",
            "_________________________________________________________________\n",
            " Layer (type)                Output Shape              Param #   \n",
            "=================================================================\n",
            " conv2d (Conv2D)             (None, 32, 32, 64)        4864      \n",
            "                                                                 \n",
            " leaky_re_lu (LeakyReLU)     (None, 32, 32, 64)        0         \n",
            "                                                                 \n",
            " conv2d_1 (Conv2D)           (None, 16, 16, 128)       131200    \n",
            "                                                                 \n",
            " leaky_re_lu_1 (LeakyReLU)   (None, 16, 16, 128)       0         \n",
            "                                                                 \n",
            " conv2d_2 (Conv2D)           (None, 8, 8, 256)         524544    \n",
            "                                                                 \n",
            " leaky_re_lu_2 (LeakyReLU)   (None, 8, 8, 256)         0         \n",
            "                                                                 \n",
            " flatten (Flatten)           (None, 16384)             0         \n",
            "                                                                 \n",
            " dropout (Dropout)           (None, 16384)             0         \n",
            "                                                                 \n",
            " dense (Dense)               (None, 1)                 16385     \n",
            "                                                                 \n",
            "=================================================================\n",
            "Total params: 676,993\n",
            "Trainable params: 676,993\n",
            "Non-trainable params: 0\n",
            "_________________________________________________________________\n"
          ]
        }
      ],
      "source": [
        "discriminator = keras.Sequential(\n",
        "    [\n",
        "     keras.Input(shape=(64,64,3)),\n",
        "     layers.Conv2D(64, kernel_size=5, strides=2, padding='same'),\n",
        "     layers.LeakyReLU(alpha=alpha),\n",
        "     layers.Conv2D(128, kernel_size=4, strides=2, padding=\"same\"),\n",
        "     layers.LeakyReLU(alpha=0.2),\n",
        "     layers.Conv2D(256, kernel_size=4, strides=2, padding=\"same\"),\n",
        "     layers.LeakyReLU(alpha=0.2),\n",
        "\n",
        "     layers.Flatten(),\n",
        "     layers.Dropout(0.2),\n",
        "     layers.Dense(1, activation=\"sigmoid\"),\n",
        "    ],\n",
        "    name = \"discriminator\"\n",
        ")\n",
        "discriminator.summary()"
      ]
    },
    {
      "cell_type": "code",
      "execution_count": 12,
      "metadata": {
        "colab": {
          "base_uri": "https://localhost:8080/"
        },
        "id": "hN1VIGYGKHkM",
        "outputId": "7a98fa4b-7b1f-4aa3-ff10-8eda659867e3"
      },
      "outputs": [
        {
          "output_type": "stream",
          "name": "stdout",
          "text": [
            "Model: \"generator\"\n",
            "_________________________________________________________________\n",
            " Layer (type)                Output Shape              Param #   \n",
            "=================================================================\n",
            " dense_1 (Dense)             (None, 8192)              1056768   \n",
            "                                                                 \n",
            " reshape (Reshape)           (None, 8, 8, 128)         0         \n",
            "                                                                 \n",
            " conv2d_transpose (Conv2DTra  (None, 16, 16, 128)      262272    \n",
            " nspose)                                                         \n",
            "                                                                 \n",
            " batch_normalization (BatchN  (None, 16, 16, 128)      512       \n",
            " ormalization)                                                   \n",
            "                                                                 \n",
            " leaky_re_lu_3 (LeakyReLU)   (None, 16, 16, 128)       0         \n",
            "                                                                 \n",
            " conv2d_transpose_1 (Conv2DT  (None, 32, 32, 256)      524544    \n",
            " ranspose)                                                       \n",
            "                                                                 \n",
            " batch_normalization_1 (Batc  (None, 32, 32, 256)      1024      \n",
            " hNormalization)                                                 \n",
            "                                                                 \n",
            " leaky_re_lu_4 (LeakyReLU)   (None, 32, 32, 256)       0         \n",
            "                                                                 \n",
            " conv2d_transpose_2 (Conv2DT  (None, 64, 64, 512)      2097664   \n",
            " ranspose)                                                       \n",
            "                                                                 \n",
            " batch_normalization_2 (Batc  (None, 64, 64, 512)      2048      \n",
            " hNormalization)                                                 \n",
            "                                                                 \n",
            " leaky_re_lu_5 (LeakyReLU)   (None, 64, 64, 512)       0         \n",
            "                                                                 \n",
            " conv2d_3 (Conv2D)           (None, 64, 64, 3)         38403     \n",
            "                                                                 \n",
            "=================================================================\n",
            "Total params: 3,983,235\n",
            "Trainable params: 3,981,443\n",
            "Non-trainable params: 1,792\n",
            "_________________________________________________________________\n"
          ]
        }
      ],
      "source": [
        "from tensorflow.python.keras.layers.normalization.batch_normalization import BatchNormalization\n",
        "generator = keras.Sequential(\n",
        "    [\n",
        "      keras.Input(shape=(latent_dim,)),\n",
        "      layers.Dense(8*8*128),\n",
        "      layers.Reshape((8, 8, 128)),\n",
        "      layers.Conv2DTranspose(128, kernel_size=4, strides=2, padding=\"same\"),\n",
        "      layers.BatchNormalization(),\n",
        "      layers.LeakyReLU(alpha=0.2),\n",
        "      layers.Conv2DTranspose(256, kernel_size=4, strides=2, padding=\"same\"),\n",
        "      layers.BatchNormalization(),\n",
        "      layers.LeakyReLU(alpha=0.2),\n",
        "      layers.Conv2DTranspose(512, kernel_size=4, strides=2, padding=\"same\"),\n",
        "      layers.BatchNormalization(),\n",
        "      layers.LeakyReLU(alpha=0.2),\n",
        "      layers.Conv2D(3, kernel_size=5, padding=\"same\", activation=\"tanh\"),\n",
        "    ],\n",
        "    name=\"generator\",\n",
        ")\n",
        "generator.summary()"
      ]
    },
    {
      "cell_type": "code",
      "source": [
        ""
      ],
      "metadata": {
        "id": "CHpSDs-CBuVY"
      },
      "execution_count": null,
      "outputs": []
    },
    {
      "cell_type": "code",
      "execution_count": 13,
      "metadata": {
        "id": "8uEVFYC9HRVl"
      },
      "outputs": [],
      "source": [
        "def plot_multiple_images(images, n_cols=None):\n",
        "    n_cols = n_cols or len(images)\n",
        "    n_rows = (len(images) - 1) // n_cols + 1\n",
        "    if images.shape[-1] == 1:\n",
        "        images = np.squeeze(images, axis=-1)\n",
        "    plt.figure(figsize=(n_cols, n_rows))\n",
        "    for index, image in enumerate(images):\n",
        "        plt.subplot(n_rows, n_cols, index + 1)\n",
        "        plt.imshow(image, cmap=\"binary\")\n",
        "        plt.axis(\"off\")"
      ]
    },
    {
      "cell_type": "code",
      "source": [
        "class save_imgs(keras.callbacks.Callback):\n",
        "    def __init__(self, num_img=3, codings_size=128):\n",
        "        self.num_img = num_img\n",
        "        self.codings_size = codings_size\n",
        "\n",
        "    def on_epoch_end(self, epoch, logs=None):\n",
        "        noise = tf.random.normal(shape=(self.num_img, self.codings_size))\n",
        "        generated_images = self.model.generator(noise)\n",
        "        generated_images *= 255\n",
        "        generated_images.numpy()\n",
        "        for i in range(self.num_img):\n",
        "            img = keras.preprocessing.image.array_to_img(generated_images[i])\n",
        "            img.save(\"generated_img_%03d_%d.png\" % (epoch, i))"
      ],
      "metadata": {
        "id": "obP4Wy1G2w4S"
      },
      "execution_count": 14,
      "outputs": []
    },
    {
      "cell_type": "code",
      "source": [
        "class GAN(keras.Model):\n",
        "    def __init__(self, discriminator, generator, codings_size, batch_size):\n",
        "        super(GAN, self).__init__()\n",
        "        self.discriminator = discriminator\n",
        "        self.generator = generator\n",
        "        self.codings_size = codings_size\n",
        "        self.batch_size = batch_size\n",
        "\n",
        "    def compile(self, d_opt, g_opt, loss_fn):\n",
        "        '''\n",
        "        To customize the fit method you should override the training step function of the Model class.\n",
        "        This is the function that is called by fit() for every batch of data.\n",
        "        This will allow us using the fit() method normally but with our own custom modification\n",
        "        https://www.tensorflow.org/guide/keras/customizing_what_happens_in_fit\n",
        "        '''\n",
        "        super(GAN, self).compile()\n",
        "        self.d_optimizer = d_opt\n",
        "        self.g_optimizer = g_opt\n",
        "        self.loss_fn = loss_fn\n",
        "        self.d_loss_metric = keras.metrics.Mean(name=\"d_loss\")\n",
        "        self.g_loss_metric = keras.metrics.Mean(name=\"g_loss\")\n",
        "\n",
        "    @property\n",
        "    def metrics(self):\n",
        "        return [self.d_loss_metric, self.g_loss_metric]\n",
        "\n",
        "    def train_step(self, real_images):\n",
        "        # Sample random points in the latent space\n",
        "        batch_size = tf.shape(real_images)[0]\n",
        "        noise = tf.random.normal(shape=[batch_size, self.codings_size])\n",
        "        \n",
        "        # Create fake images\n",
        "        generated_images = self.generator(noise)\n",
        "\n",
        "        X_fake_and_real = tf.concat([generated_images, real_images], axis=0)\n",
        "\n",
        "        # Assemble labels discriminating real from fake images\n",
        "        y1 = tf.concat(\n",
        "            [tf.zeros((batch_size, 1)), tf.ones((batch_size, 1))], axis=0\n",
        "        )\n",
        "        # Add random noise to the labels - important trick!\n",
        "        y1 += 0.05 * tf.random.uniform(tf.shape(y1))\n",
        "\n",
        "        # Train the discriminator\n",
        "        with tf.GradientTape() as tape:\n",
        "            predictions = self.discriminator(X_fake_and_real)\n",
        "            d_loss = self.loss_fn(y1, predictions)\n",
        "        grads = tape.gradient(d_loss, self.discriminator.trainable_weights)\n",
        "        self.d_optimizer.apply_gradients(\n",
        "            zip(grads, self.discriminator.trainable_weights)\n",
        "        )\n",
        "\n",
        "        # Phase 2\n",
        "        noise = tf.random.normal(shape=[batch_size, codings_size])\n",
        "\n",
        "        # Assemble labels that say \"all real images\"\n",
        "        y2 = tf.zeros((batch_size, 1))\n",
        "\n",
        "        # Train the generator with discriminator **OFF**\n",
        "        discriminator.trainable = False\n",
        "        with tf.GradientTape() as tape:\n",
        "            predictions = self.discriminator(self.generator(noise))\n",
        "            g_loss = self.loss_fn(y2, predictions)\n",
        "        grads = tape.gradient(g_loss, self.generator.trainable_weights)\n",
        "        self.g_optimizer.apply_gradients(zip(grads, self.generator.trainable_weights))\n",
        "\n",
        "        # Update metrics\n",
        "        self.d_loss_metric.update_state(d_loss)\n",
        "        self.g_loss_metric.update_state(g_loss)\n",
        "        return {\n",
        "            \"d_loss\": self.d_loss_metric.result(),\n",
        "            \"g_loss\": self.g_loss_metric.result(),\n",
        "        }"
      ],
      "metadata": {
        "id": "8WPdcuqFw-y1"
      },
      "execution_count": 22,
      "outputs": []
    },
    {
      "cell_type": "code",
      "source": [
        "gan = GAN(discriminator=discriminator, generator=generator, codings_size=codings_size, batch_size=batch_size)\n",
        "gan.compile(\n",
        "    d_opt=keras.optimizers.Adam(learning_rate=0.0001),\n",
        "    g_opt=keras.optimizers.Adam(learning_rate=0.0001),\n",
        "    loss_fn=keras.losses.BinaryCrossentropy(),\n",
        ")\n",
        "\n",
        "gan.fit(\n",
        "    dataset, epochs=1, callbacks=[save_imgs(num_img=10, codings_size=codings_size)]\n",
        ")"
      ],
      "metadata": {
        "colab": {
          "base_uri": "https://localhost:8080/"
        },
        "id": "qmz-6hlaCCeQ",
        "outputId": "1d520761-1ed3-41a3-d20b-1c61f76e1c6a"
      },
      "execution_count": 23,
      "outputs": [
        {
          "output_type": "stream",
          "name": "stdout",
          "text": [
            "63/63 [==============================] - 1640s 26s/step - d_loss: 0.6346 - g_loss: 0.5687\n"
          ]
        },
        {
          "output_type": "execute_result",
          "data": {
            "text/plain": [
              "<keras.callbacks.History at 0x7fb33861e050>"
            ]
          },
          "metadata": {},
          "execution_count": 23
        }
      ]
    },
    {
      "cell_type": "code",
      "source": [
        "import matplotlib.image as mpig\n",
        "import random\n",
        "\n",
        "def view_gen_image(target_folder):\n",
        "\n",
        "  random_image = random.sample(os.listdir(target_folder), 1)\n",
        "\n",
        "  img = mpig.imread(target_folder + \"/\" + random_image[0])\n",
        "  plt.imshow(img)\n",
        "  plt.axis(\"off\")\n",
        "\n",
        "  print(f\"Image shape: {img.shape}\")"
      ],
      "metadata": {
        "id": "4cuvEn_cKBqD"
      },
      "execution_count": null,
      "outputs": []
    },
    {
      "cell_type": "code",
      "source": [
        "view_gen_images(/content)"
      ],
      "metadata": {
        "id": "uK7pf47TKkoj"
      },
      "execution_count": null,
      "outputs": []
    }
  ]
}